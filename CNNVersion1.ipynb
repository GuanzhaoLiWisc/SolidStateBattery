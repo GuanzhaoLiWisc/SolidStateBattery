{
 "cells": [
  {
   "cell_type": "code",
   "execution_count": 3,
   "metadata": {},
   "outputs": [
    {
     "name": "stdout",
     "output_type": "stream",
     "text": [
      "_________________________________________________________________\n",
      "Layer (type)                 Output Shape              Param #   \n",
      "=================================================================\n",
      "conv3d_2 (Conv3D)            (None, 62, 62, 62, 64)    5248      \n",
      "_________________________________________________________________\n",
      "conv3d_3 (Conv3D)            (None, 60, 60, 60, 32)    55328     \n",
      "_________________________________________________________________\n",
      "max_pooling3d_1 (MaxPooling3 (None, 30, 30, 30, 32)    0         \n",
      "_________________________________________________________________\n",
      "flatten_1 (Flatten)          (None, 864000)            0         \n",
      "_________________________________________________________________\n",
      "dense_1 (Dense)              (None, 16)                13824016  \n",
      "=================================================================\n",
      "Total params: 13,884,592\n",
      "Trainable params: 13,884,592\n",
      "Non-trainable params: 0\n",
      "_________________________________________________________________\n"
     ]
    }
   ],
   "source": [
    "import matplotlib.pyplot as plt\n",
    "import keras\n",
    "from keras.utils import to_categorical\n",
    "from keras.models import Sequential, Model\n",
    "from keras.layers import Dense, Conv3D, Flatten, MaxPooling3D, BatchNormalization, GlobalAveragePooling3D, LeakyReLU\n",
    "from keras.regularizers import l2\n",
    "\n",
    "my_model= Sequential()\n",
    "my_model.add(Conv3D(64, (3,3,3), activation='relu',input_shape=(64,64, 64,3))) # first CNN layer\n",
    "my_model.add(Conv3D(32, (3,3,3), activation='relu'))# second CNN layer\n",
    "my_model.add(MaxPooling3D(pool_size=(2, 2, 2), strides=None, padding='valid', data_format=None)) # maxPooling\n",
    "\n",
    "my_model.add(Flatten())\n",
    "my_model.add(Dense(16, activation= \"softmax\")) # fully connected layer, output probablities\n",
    "my_model.compile(optimizer='adam', loss='categorical_crossentropy', metrics=['accuracy'])\n",
    "    \n",
    "my_model.summary()\n",
    "\n",
    "          "
   ]
  },
  {
   "cell_type": "code",
   "execution_count": null,
   "metadata": {},
   "outputs": [],
   "source": [
    "def get_data(): # left for data to be written\n",
    "    with open (\"\") as csv_reader:\n",
    "        \n",
    "    "
   ]
  },
  {
   "cell_type": "code",
   "execution_count": 25,
   "metadata": {},
   "outputs": [],
   "source": [
    "checkpoint_name = 'Weights-{epoch:03d}--{val_loss:.5f}.hdf5' \n",
    "checkpoint = ModelCheckpoint(checkpoint_name, monitor='val_loss', verbose = 1, save_best_only = True, mode ='auto')\n",
    "callbacks_list = [checkpoint]\n",
    "\n",
    "my_model.fit(train, target, epochs=500, batch_size=32, validation_split = 0.2, callbacks=callbacks_list)"
   ]
  },
  {
   "cell_type": "code",
   "execution_count": null,
   "metadata": {},
   "outputs": [],
   "source": [
    "# Load wights file of the best model :\n",
    "wights_file = 'Weights-478--18738.19831.hdf5' # choose the best checkpoint \n",
    "NN_model.load_weights(wights_file) # load it\n",
    "NN_model.compile(loss='mean_absolute_error', optimizer='adam', metrics=['mean_absolute_error'])\n",
    "\n"
   ]
  }
 ],
 "metadata": {
  "kernelspec": {
   "display_name": "Python 3",
   "language": "python",
   "name": "python3"
  },
  "language_info": {
   "codemirror_mode": {
    "name": "ipython",
    "version": 3
   },
   "file_extension": ".py",
   "mimetype": "text/x-python",
   "name": "python",
   "nbconvert_exporter": "python",
   "pygments_lexer": "ipython3",
   "version": "3.6.8"
  }
 },
 "nbformat": 4,
 "nbformat_minor": 2
}
